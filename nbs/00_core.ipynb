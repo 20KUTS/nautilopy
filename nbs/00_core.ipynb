{
 "cells": [
  {
   "cell_type": "markdown",
   "metadata": {},
   "source": [
    "# Core Functions\n",
    "> Essential functions for processing and visualizing underwater cave SONAR and vision data."
   ]
  },
  {
   "cell_type": "code",
   "execution_count": null,
   "metadata": {},
   "outputs": [],
   "source": [
    "#| default_exp core"
   ]
  },
  {
   "cell_type": "code",
   "execution_count": null,
   "metadata": {},
   "outputs": [],
   "source": [
    "#| hide\n",
    "from nbdev.showdoc import *"
   ]
  },
  {
   "cell_type": "code",
   "execution_count": null,
   "metadata": {},
   "outputs": [],
   "source": []
  },
  {
   "cell_type": "code",
   "execution_count": null,
   "metadata": {},
   "outputs": [
    {
     "ename": "ModuleNotFoundError",
     "evalue": "No module named 'numpy'",
     "output_type": "error",
     "traceback": [
      "\u001b[0;31m---------------------------------------------------------------------------\u001b[0m",
      "\u001b[0;31mModuleNotFoundError\u001b[0m                       Traceback (most recent call last)",
      "Cell \u001b[0;32mIn[2], line 5\u001b[0m\n\u001b[1;32m      1\u001b[0m \u001b[38;5;66;03m# | default_exp quaternion_utils\u001b[39;00m\n\u001b[1;32m      2\u001b[0m \u001b[38;5;66;03m# | export\u001b[39;00m\n\u001b[1;32m      4\u001b[0m \u001b[38;5;28;01mimport\u001b[39;00m \u001b[38;5;21;01mmath\u001b[39;00m\n\u001b[0;32m----> 5\u001b[0m \u001b[38;5;28;01mimport\u001b[39;00m \u001b[38;5;21;01mnumpy\u001b[39;00m \u001b[38;5;28;01mas\u001b[39;00m \u001b[38;5;21;01mnp\u001b[39;00m\n\u001b[1;32m      7\u001b[0m \u001b[38;5;28;01mdef\u001b[39;00m \u001b[38;5;21mf_q2roll_pitch_yaw\u001b[39m(v_quaternion):\n\u001b[1;32m      8\u001b[0m \u001b[38;5;250m    \u001b[39m\u001b[38;5;124;03m\"\"\"\u001b[39;00m\n\u001b[1;32m      9\u001b[0m \u001b[38;5;124;03m    Convert a quaternion to roll, pitch, and yaw angles (Euler angles).\u001b[39;00m\n\u001b[1;32m     10\u001b[0m \n\u001b[0;32m   (...)\u001b[0m\n\u001b[1;32m     35\u001b[0m \u001b[38;5;124;03m        Roll: 0.5760, Pitch: 0.5899, Yaw: 1.3770\u001b[39;00m\n\u001b[1;32m     36\u001b[0m \u001b[38;5;124;03m    \"\"\"\u001b[39;00m\n",
      "\u001b[0;31mModuleNotFoundError\u001b[0m: No module named 'numpy'"
     ]
    }
   ],
   "source": [
    "\n",
    "#| export\n",
    "\n",
    "import math\n",
    "import numpy as np\n",
    "\n",
    "def f_q2roll_pitch_yaw(v_quaternion):\n",
    "    \"\"\"\n",
    "    Convert a quaternion to roll, pitch, and yaw angles (Euler angles).\n",
    "\n",
    "    This implementation assumes normalized quaternion converts to Euler angles in a 3-2-1 sequence.\n",
    "    The 3-2-1 or YZX convention is commonly used for Tait-Bryan angles or nautical angles.\n",
    "    See wiki https://en.wikipedia.org/wiki/Conversion_between_quaternions_and_Euler_angles\n",
    "    for more details\n",
    "\n",
    "    Parameters:\n",
    "        v_quaternion (np.ndarray): A 4-element array representing the quaternion in the form (qx, qy, qz, qw).\n",
    "\n",
    "    Returns:\n",
    "        tuple: A tuple containing the roll, pitch, and yaw angles in radians.\n",
    "\n",
    "    Notes:\n",
    "        - The function handles singularities at the North and South Poles.\n",
    "        - The conversion uses the algorithm described in the referenced wiki page.\n",
    "        - Quaternions should be normalized for accurate results.\n",
    "\n",
    "    References:\n",
    "        1. [Conversion between quaternions and Euler angles](https://en.wikipedia.org/wiki/Conversion_between_quaternions_and_Euler_angles)\n",
    "        2. [Handling singularities](https://www.euclideanspace.com/maths/geometry/rotations/conversions/quaternionToEuler/)\n",
    "\n",
    "    Examples:\n",
    "        >>> v_quat = np.array([0.1, 0.2, 0.3, 0.4])\n",
    "        >>> d_roll, d_pitch, d_yaw = f_q2roll_pitch_yaw(v_quat)\n",
    "        >>> print(f\"Roll: {d_roll:.4f}, Pitch: {d_pitch:.4f}, Yaw: {d_yaw:.4f}\")\n",
    "        Roll: 0.5760, Pitch: 0.5899, Yaw: 1.3770\n",
    "    \"\"\"\n",
    "    d_qx, d_qy, d_qz, d_qw = v_quaternion\n",
    "\n",
    "    # Manage singularity and potential rounding error that create a not normalized quaternion\n",
    "    # More information at https://www.euclideanspace.com/maths/geometry/rotations/conversions/quaternionToEuler/\n",
    "    d_test = d_qz * d_qw + d_qx * d_qy\n",
    "    \n",
    "    d_sqw = d_qw * d_qw\n",
    "    d_sqx = d_qx * d_qx\n",
    "    d_sqy = d_qy * d_qy\n",
    "    d_sqz = d_qz * d_qz\n",
    "    d_unit = d_sqx + d_sqy + d_sqz + d_sqw  # Correction factor if not normalized\n",
    "    \n",
    "    # Singularity at North Pole\n",
    "    if d_test > 0.499 * d_unit:\n",
    "        d_yaw = 2 * math.atan2(d_qx, d_qw)\n",
    "        d_pitch = np.pi / 2\n",
    "        d_roll = 0\n",
    "        return d_roll, d_pitch, d_yaw\n",
    "\n",
    "    # Singularity at South Pole\n",
    "    if d_test < -0.499 * d_unit:\n",
    "        d_yaw = -2 * math.atan2(d_qx, d_qw)\n",
    "        d_pitch = -np.pi / 2\n",
    "        d_roll = 0\n",
    "        return d_roll, d_pitch, d_yaw\n",
    "\n",
    "    # Roll (x-axis rotation)\n",
    "    d_roll = math.atan2(2.0 * (d_qw * d_qx + d_qy * d_qz), 1.0 - 2.0 * (d_sqx + d_sqy))\n",
    "    \n",
    "    # Pitch (y-axis rotation)\n",
    "    # CORRECTION from the docs here, math.asin(2*test/unit) is wrong (in our case)\n",
    "    # pitch = 2*math.atan2(1.0 + 2.0 * (qw * qy - qx * qz),1.0 - 2.0 * (qw * qy - qx * qz)) - np.pi/2\n",
    "    d_pitch = math.asin(2 * (d_qy * d_qw - d_qz * d_qx) / d_unit)\n",
    "    \n",
    "    # Yaw (z-axis rotation)\n",
    "    d_yaw = math.atan2(2.0 * (d_qw * d_qz + d_qx * d_qy), 1.0 - 2.0 * (d_sqy + d_sqz))\n",
    "    \n",
    "    return d_roll, d_pitch, d_yaw"
   ]
  },
  {
   "cell_type": "code",
   "execution_count": null,
   "metadata": {},
   "outputs": [],
   "source": [
    "# | hide\n",
    "from nbdev.showdoc import *\n",
    "import pytest\n",
    "\n",
    "# | export\n",
    "def test_f_q2roll_pitch_yaw():\n",
    "    \"\"\"Test the quaternion to roll, pitch, yaw conversion function.\"\"\"\n",
    "    # Test identity quaternion\n",
    "    v_quat_identity = np.array([0, 0, 0, 1])\n",
    "    d_roll, d_pitch, d_yaw = f_q2roll_pitch_yaw(v_quat_identity)\n",
    "    assert np.allclose([d_roll, d_pitch, d_yaw], [0, 0, 0], atol=1e-6), \"Identity quaternion test failed\"\n",
    "\n",
    "    # Test 90-degree rotation around x-axis\n",
    "    v_quat_x90 = np.array([np.sqrt(2)/2, 0, 0, np.sqrt(2)/2])\n",
    "    d_roll, d_pitch, d_yaw = f_q2roll_pitch_yaw(v_quat_x90)\n",
    "    assert np.allclose([d_roll, d_pitch, d_yaw], [np.pi/2, 0, 0], atol=1e-6), \"90-degree x-rotation test failed\"\n",
    "\n",
    "    # Test North Pole singularity\n",
    "    v_quat_north = np.array([0, np.sqrt(2)/2, 0, np.sqrt(2)/2])\n",
    "    d_roll, d_pitch, d_yaw = f_q2roll_pitch_yaw(v_quat_north)\n",
    "    assert np.isclose(d_pitch, np.pi/2, atol=1e-6), \"North Pole singularity test failed\"\n",
    "\n",
    "    # Test South Pole singularity\n",
    "    v_quat_south = np.array([0, -np.sqrt(2)/2, 0, np.sqrt(2)/2])\n",
    "    d_roll, d_pitch, d_yaw = f_q2roll_pitch_yaw(v_quat_south)\n",
    "    assert np.isclose(d_pitch, -np.pi/2, atol=1e-6), \"South Pole singularity test failed\"\n",
    "\n",
    "    print(\"All tests passed successfully!\")\n",
    "\n",
    "# Example usage\n",
    "v_quat_example = np.array([0.1, 0.2, 0.3, 0.4])\n",
    "d_roll, d_pitch, d_yaw = f_q2roll_pitch_yaw(v_quat_example)\n",
    "print(f\"Roll: {d_roll:.4f}, Pitch: {d_pitch:.4f}, Yaw: {d_yaw:.4f}\")"
   ]
  },
  {
   "cell_type": "code",
   "execution_count": null,
   "metadata": {},
   "outputs": [],
   "source": []
  },
  {
   "cell_type": "code",
   "execution_count": null,
   "metadata": {},
   "outputs": [],
   "source": []
  },
  {
   "cell_type": "code",
   "execution_count": null,
   "metadata": {},
   "outputs": [],
   "source": []
  },
  {
   "cell_type": "code",
   "execution_count": null,
   "metadata": {},
   "outputs": [],
   "source": []
  },
  {
   "cell_type": "code",
   "execution_count": null,
   "metadata": {},
   "outputs": [],
   "source": []
  },
  {
   "cell_type": "code",
   "execution_count": null,
   "metadata": {},
   "outputs": [],
   "source": []
  },
  {
   "cell_type": "code",
   "execution_count": null,
   "metadata": {},
   "outputs": [],
   "source": []
  },
  {
   "cell_type": "code",
   "execution_count": null,
   "metadata": {},
   "outputs": [],
   "source": []
  },
  {
   "cell_type": "code",
   "execution_count": null,
   "metadata": {},
   "outputs": [],
   "source": [
    "#| hide\n",
    "import nbdev; nbdev.nbdev_export()"
   ]
  },
  {
   "cell_type": "code",
   "execution_count": null,
   "metadata": {},
   "outputs": [],
   "source": []
  }
 ],
 "metadata": {
  "kernelspec": {
   "display_name": "nbdev-env",
   "language": "python",
   "name": "nbdev-env"
  }
 },
 "nbformat": 4,
 "nbformat_minor": 4
}
