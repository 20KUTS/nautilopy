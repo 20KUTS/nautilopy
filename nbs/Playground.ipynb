{
 "cells": [
  {
   "cell_type": "markdown",
   "id": "d5af5fea-427b-41d3-a776-69ca7798d3f9",
   "metadata": {},
   "source": [
    "# Playgroung notebook"
   ]
  },
  {
   "cell_type": "markdown",
   "id": "240586a7-d0b1-459b-aa6e-bc6b29f54d0c",
   "metadata": {},
   "source": [
    "This notebook is to give a space to quickly test, explore, and try stuff without interfering with the project notebooks."
   ]
  },
  {
   "cell_type": "code",
   "execution_count": null,
   "id": "ff2a1c1d-2db2-4f9e-b17c-ac2a8a86f3e5",
   "metadata": {},
   "outputs": [],
   "source": []
  }
 ],
 "metadata": {
  "kernelspec": {
   "display_name": "nbdev-env",
   "language": "python",
   "name": "nbdev-env"
  }
 },
 "nbformat": 4,
 "nbformat_minor": 5
}
