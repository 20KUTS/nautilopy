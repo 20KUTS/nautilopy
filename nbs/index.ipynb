{
 "cells": [
  {
   "cell_type": "raw",
   "metadata": {},
   "source": [
    "---\n",
    "authors:\n",
    "- affiliations:\n",
    "  - University of Louisiana at Lafayette\n",
    "  email: thomas.guilment@gmail.com\n",
    "  name: Thomas Guilment\n",
    "- affiliations:\n",
    "  - University of Louisiana at Lafayette\n",
    "  name: Gabriele Morra\n",
    "- affiliations:\n",
    "  - Saint Louis University\n",
    "  name: Orhun Aydin\n",
    "- affiliations:\n",
    "  - Saint Louis University\n",
    "  name: Stefany Carty\n",
    "format:\n",
    "  html:\n",
    "    number-sections: false\n",
    "    page-layout: article\n",
    "    toc: true\n",
    "    toc-depth: 2\n",
    "jupyter: python3\n",
    "output-file: index.html\n",
    "summary: A Python module for processing sonar data and generating 3D models of underwater\n",
    "  cave systems\n",
    "title: 'Nautilopy: 3D Underwater Cave Mapping with Sonar Technology'\n",
    "\n",
    "---\n",
    "\n"
   ]
  },
  {
   "cell_type": "markdown",
   "metadata": {},
   "source": [
    "![](./img/Logo_nautilopy_tiny.png)"
   ]
  },
  {
   "cell_type": "markdown",
   "metadata": {},
   "source": [
    "## Project Overview\n",
    "\n",
    "Nautilopy is a Python module for 3D underwater cave mapping using sonar technology. This library provides tools and algorithms to process sonar data, generate 3D models of underwater cave systems, and visualize complex submerged environments.\n",
    "\n",
    "### Dataset Description\n",
    "\n",
    "The dataset, provided by Angelos Maillos et _al._ 2017, includes sensor data collected during an AUV mission in July 2013. A diver guided the AUV due to the spatial complexity of the caves.\n",
    "\n",
    "### Sensor Suite\n",
    "- Two mechanically scanned imaging sonars (MSIS)\n",
    "- Doppler velocity log (DVL)\n",
    "- Two inertial measurement units (IMUs)\n",
    "- Depth sensor\n",
    "- Vertically mounted camera (for ground truth validation)\n",
    "\n",
    "### Available Data Topics from CSV files\n",
    "1. `/depth_sensor`: DS2806 HPS-A pressure sensor data\n",
    "2. `/dvl_linkquest`: LinkQuest NavQuest 600 sensor data\n",
    "3. `/imu_adis`: Analog Devices ADIS16480 sensor data\n",
    "4. `/imu_adis_ros`: ADIS16480 orientation in standard ROS format\n",
    "5. `/imu_xsens_mti`: Xsens MTi sensor data\n",
    "<!-- REMOVED (FILE TOO LARGE) 6. `/imu_xsens_mti_ros`: Xsens MTi orientation in standard ROS format -->\n",
    "6. `/odometry`: Robot pose estimation\n",
    "7. `/sonar_micron`: Tritech Micron DST sensor beam data\n",
    "8. `/sonar_micron_ros`: Micron data in standard ROS Laserscan format\n",
    "9. `/sonar_seaking`: Tritech Super SeaKing DFP profiler sensor beam data\n",
    "<!-- REMOVED (FILE TOO LARGE) 11. `/sonar_seaking_ros`: Profiler data in standard ROS Laserscan format -->\n",
    "10. `/tf`: Sensor offset transformations\n",
    "\n",
    "## Sonar Specifications\n",
    "\n",
    "| Specification | Imaging sonar - Tritech Micron DST | Profiling sonar - Tritech Super SeaKing DFP |\n",
    "|---------------|-----------------------------------|-------------------------------------------|\n",
    "| Frequency | Chirped 650 to 750 kHz | 0.6 MHz \\| 1.1 MHz |\n",
    "| Max range | 75 m (20 m used) | 80 m \\| 40 m (10 m used) |\n",
    "| Horizontal beamwidth | 3° | 2° \\| 1° |\n",
    "| Vertical beamwidth | 35° | 2° \\| 1° |\n",
    "| Scan rate (360° sector) | 5 − 20 sec | 4 − 25 sec |\n",
    "\n",
    "## Available Data in Python\n",
    "A pre-processing is done on the CSV sensors data to create a Pickle folder containing the following interpolated variables.\n",
    "\n",
    "### 1. Horizontal Micron Sonar Data\n",
    "- `v_timestamp_sonar_micron_final`: Timestamps\n",
    "- `m_sonarReceivedIntensity_micron_final`: (397x45587) Received energy per range and time\n",
    "- `m_interp_micron_YPR`: (45587x3) Yaw, Pitch, Roll over time\n",
    "- `m_interp_pos_micron_final`: (45587x3) 3D Cartesian position over time\n",
    "- `v_angles_rad_micron_final`: (45587x1) Scanning angle over time (radians)\n",
    "- `v_range_micron`: (397x1) Range values (0 to 20 meters)\n",
    "- `v_offset_ypr_micron`: (3x1) Offset position from AUV reference\n",
    "\n",
    "### 2. Vertical Seaking Sonar Data\n",
    "- `v_timestamp_sonar_seaking_final`: Timestamps\n",
    "- `m_sonarReceivedIntensity_seaking_final`: (50x97477) Received energy per range and time\n",
    "- `m_interp_micron_YPR`: (97477x3) Yaw, Pitch, Roll over time\n",
    "- `m_interp_pos_micron_final`: (97477x3) 3D Cartesian position over time\n",
    "- `v_angles_rad_micron_final`: (97477x1) Scanning angle over time (radians)\n",
    "- `v_range_micron`: (50x1) Range values (0 to 20 meters)\n",
    "- `v_offset_ypr_seaking`: (3x1) Offset position from AUV reference\n",
    "\n",
    "## Current/Future work\n",
    "\n",
    "1. **Walls segmentation**  \n",
    "How to automatically extract the cave walls from sonar and sensor data? One idea is to annotate what we think is wall data and then apply AI/ML algorithms.\n",
    "\n",
    "2. **3D confidence map**  \n",
    "From the wall segmentation, we should be able to get a first 3D map with a confidence level assigned for each point according to the \"wall segmentation\" confidence algorithm.\n",
    "\n",
    "3. **3D confidence map extension by interpolation/extrapolation**  \n",
    "The final map could be interpolated to understand the entire cave. This interpolation could also have a confidence level depending on how far it is from the base 3D map.\n",
    "\n",
    "4. **Photogrammetry**  \n",
    "We have the video that should help add an extra data source.\n",
    "We could use the video combined with the altitude estimation to use the 3D photogrammetry and correlate the detected point of interest with the 3D map made from the sonar\n",
    "\n",
    "5. **SLAM**  \n",
    "Compared to the work from Maillos _et al._, 2015), the authors used simultaneous localization and mapping (SLAM) methods that I didn’t use.\n",
    "This is supposed to improve the 3D position of the AUV (Autonomous Underwater Vehicle) and improve the 3D map quality.\n",
    "\n",
    "6. **Real-time and Optimization**  \n",
    "When we have a SLAM method that we trust and everything is working. Then, we can think of real-time mapping and confidence map creation."
   ]
  },
  {
   "cell_type": "markdown",
   "metadata": {},
   "source": [
    "## Project Folder architecture Template"
   ]
  },
  {
   "cell_type": "markdown",
   "metadata": {},
   "source": [
    "```\n",
    "project_root/\n",
    "├── nbs/                 # Jupyter notebooks\n",
    "│   ├── 00_core.ipynb\n",
    "│   ├── 01_Preprocessing.ipynb\n",
    "│   ├── 02_Presentation.ipynb\n",
    "│   └── ...\n",
    "├── nautilopy/           # Auto-generated Python modules\n",
    "├── docs/                # Auto-generated documentation\n",
    "├── tests/               # Additional tests (if needed)\n",
    "├── data/                # Data files (consider .gitignore for large files)\n",
    "├── models/              # Saved model files\n",
    "├── settings.ini         # nbdev configuration\n",
    "├── README.md\n",
    "└── LICENSE\n",
    "```"
   ]
  },
  {
   "cell_type": "markdown",
   "metadata": {},
   "source": [
    "## Setting up nautilopy for development"
   ]
  },
  {
   "cell_type": "markdown",
   "metadata": {},
   "source": [
    "This guide will walk you through setting up nautilopy on your local machine.\n",
    "\n",
    "### Prerequisites\n",
    "\n",
    "- Git\n",
    "- Conda or Mamba package manager\n",
    "  \n",
    "- Recommendation: If you are new to using `nbdev`, this [nbdev walkthrouhg](https://nbdev.fast.ai/tutorials/tutorial.html)  has some useful pointers to get you started:\n",
    " \n",
    "\n",
    "### Step 1: Create a Virtual Environment\n",
    "\n",
    "Choose either conda or mamba to create your virtual environment:\n",
    "\n",
    "#### Using Conda\n",
    "\n",
    "```bash\n",
    "conda create --name nautilopy_env\n",
    "conda activate nautilopy_env\n",
    "```\n",
    "\n",
    "#### Or using Mamba\n",
    "\n",
    "```bash\n",
    "mamba create --name nautilopy_env\n",
    "mamba activate nautilopy_env\n",
    "```\n",
    "\n",
    "### Step 2: Clone the Repository\n",
    "\n",
    "Clone the nautilopy repository from GitHub:\n",
    "\n",
    "```bash\n",
    "git clone https://github.com/20KUTS/nautilopy.git\n",
    "cd nautilopy\n",
    "```\n",
    "\n",
    "```sh\n",
    "# make sure nautilopy package is installed in development mode\n",
    "$ pip install -e .\n",
    "```\n",
    "\n",
    "### Step 3: Install Requirements\n",
    "\n",
    "Use the provided `s_install_requirements.py` script to install the necessary packages:\n",
    "\n",
    "#### Using Conda (default)\n",
    "\n",
    "```bash\n",
    "python s_install_requirements.py ./requirements.txt\n",
    "```\n",
    "\n",
    "#### Using Mamba\n",
    "\n",
    "```bash\n",
    "python s_install_requirements.py ./requirements.txt --manager mamba\n",
    "```\n",
    "\n",
    "This script will automatically install all required packages listed in the `requirements.txt` file.\n",
    "\n",
    "### Step 4: Verify Installation\n",
    "\n",
    "After the installation is complete, you can verify that nautilopy is correctly set up by importing it in a Python session:\n",
    "\n",
    "```python\n",
    "import nautilopy\n",
    "```\n",
    "\n",
    "If no errors occur, the installation is successful.\n",
    "\n",
    "### Step 5: Development with nbdev from FastAI\n",
    "Then you can start developing followng the [nbdev walkthrouhg](https://nbdev.fast.ai/tutorials/tutorial.html)\n",
    "```\n",
    "# make changes under nbs/ directory\n",
    "# ...\n",
    "\n",
    "# compile to have changes apply to nautilopy\n",
    "$ nbdev_prepare\n",
    "```\n",
    "\n",
    "### Troubleshooting\n",
    "\n",
    "If you encounter any issues during the setup process, please check the following:\n",
    "\n",
    "1. Ensure your virtual environment is activated.\n",
    "2. Verify that you have the latest version of conda or mamba.\n",
    "3. Check your internet connection, as package downloads require internet access.\n",
    "4. If a specific package fails to install, try installing it manually using `pip install <package_name>` or `conda install <package_name>`.\n",
    "\n",
    "If you need more help, please refer to the project's GitHub issues page or contact the maintainers."
   ]
  },
  {
   "cell_type": "markdown",
   "metadata": {},
   "source": [
    "### Documentation"
   ]
  },
  {
   "cell_type": "markdown",
   "metadata": {},
   "source": [
    "Documentation can be found hosted on this GitHub [repository][repo]'s [pages][docs]. Additionally, you can find package manager-specific guidelines on [conda][conda] and [pypi][pypi] respectively.\n",
    "\n",
    "[repo]: https://github.com/20KUTS/nautilopy\n",
    "[docs]: https://20KUTS.github.io/nautilopy/\n",
    "[pypi]: https://pypi.org/project/nautilopy/\n",
    "[conda]: https://anaconda.org/20KUTS/nautilopy"
   ]
  },
  {
   "cell_type": "markdown",
   "metadata": {},
   "source": [
    "## How to use"
   ]
  },
  {
   "cell_type": "markdown",
   "metadata": {},
   "source": [
    "TO DO (redirect to notebooks later)"
   ]
  },
  {
   "cell_type": "code",
   "execution_count": null,
   "metadata": {},
   "outputs": [
    {
     "data": {
      "text/plain": [
       "2"
      ]
     },
     "execution_count": null,
     "metadata": {},
     "output_type": "execute_result"
    }
   ],
   "source": [
    "1+1"
   ]
  },
  {
   "cell_type": "code",
   "execution_count": null,
   "metadata": {},
   "outputs": [],
   "source": []
  },
  {
   "cell_type": "code",
   "execution_count": null,
   "metadata": {},
   "outputs": [],
   "source": []
  },
  {
   "cell_type": "code",
   "execution_count": null,
   "metadata": {},
   "outputs": [],
   "source": []
  }
 ],
 "metadata": {
  "kernelspec": {
   "display_name": "nbdev-env",
   "language": "python",
   "name": "nbdev-env"
  },
  "widgets": {
   "application/vnd.jupyter.widget-state+json": {
    "state": {},
    "version_major": 2,
    "version_minor": 0
   }
  }
 },
 "nbformat": 4,
 "nbformat_minor": 4
}
