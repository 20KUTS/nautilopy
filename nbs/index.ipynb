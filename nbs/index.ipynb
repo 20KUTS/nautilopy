{
 "cells": [
  {
   "cell_type": "markdown",
   "metadata": {},
   "source": [
    "---\n",
    "title: \"Nautilopy: 3D Underwater Cave Mapping with Sonar Technology\"\n",
    "summary: \"A Python module for processing sonar data and generating 3D models of underwater cave systems\"\n",
    "authors:\n",
    "  - name: Thomas Guilment\n",
    "    affiliations:\n",
    "      - University of Louisiana at Lafayette\n",
    "    email: thomas.guilment@gmail.com\n",
    "  - name: Gabriele Morra\n",
    "    affiliations:\n",
    "      - University of Louisiana at Lafayette\n",
    "  - name: Orhun Aydin\n",
    "    affiliations:\n",
    "      - Saint Louis University\n",
    "  - name: Stefany Carty\n",
    "    affiliations:\n",
    "      - Saint Louis University\n",
    "format:\n",
    "  gfm:\n",
    "    toc: true\n",
    "jupyter: python3\n",
    "---"
   ]
  },
  {
   "cell_type": "markdown",
   "metadata": {},
   "source": [
    "![](../img/Logo_nautilopy_tiny.png)\n",
    "\n",
    "# Nautilopy\n",
    "\n",
    "## Project Overview\n",
    "\n",
    "Nautilopy is a Python module for 3D underwater cave mapping using sonar technology. This library provides tools and algorithms to process sonar data, generate 3D models of underwater cave systems, and visualize complex submerged environments.\n",
    "<!-- \n",
    "## Installation\n",
    "\n",
    "You can install Nautilopy using pip:\n",
    "\n",
    "```bash\n",
    "pip install nautilopy -->"
   ]
  },
  {
   "cell_type": "code",
   "execution_count": 7,
   "metadata": {},
   "outputs": [],
   "source": [
    "#| hide\n",
    "from nautilopy.core import *"
   ]
  },
  {
   "cell_type": "markdown",
   "metadata": {},
   "source": [
    "<!-- ![](../img/Logo_nautilopy.png) -->\n",
    "<!-- ![](./img/Logo_nautilopy_tiny.jpeg) -->"
   ]
  },
  {
   "cell_type": "markdown",
   "metadata": {},
   "source": [
    "<!-- # Nautilopy applied to 3D Confidence Map Generation for Underwater Cave Mapping\n",
    "\n",
    "> **Nautilopy** is a Python module for 3D underwater cave mapping using sonar technology. Inspired by Jules Verne's nautical adventures, this library provides tools and algorithms to process sonar data, generate 3D models of underwater cave systems, and visualize complex submerged environments. -->"
   ]
  },
  {
   "cell_type": "markdown",
   "metadata": {},
   "source": [
    "## Project Overview\n",
    "\n",
    "This project aims to create a 3D confidence map of an underwater cave using data from two mechanical sonar devices: a horizontal Tritech Micron DST imaging sonar and a vertical Tritech Super SeaKing DFP profiling sonar. The data was collected by an autonomous underwater vehicle (AUV) in a complex underwater cave environment.\n",
    "\n",
    "### Dataset Description\n",
    "\n",
    "The dataset, provided by Angelos Maillos et _al._ 2017, includes sensor data collected during an AUV mission in July 2013. A diver guided the AUV due to the spatial complexity of the caves.\n",
    "\n",
    "### Sensor Suite\n",
    "- Two mechanically scanned imaging sonars (MSIS)\n",
    "- Doppler velocity log (DVL)\n",
    "- Two inertial measurement units (IMUs)\n",
    "- Depth sensor\n",
    "- Vertically mounted camera (for ground truth validation)\n",
    "\n",
    "### Available Data Topics from CSV files\n",
    "1. `/depth_sensor`: DS2806 HPS-A pressure sensor data\n",
    "2. `/dvl_linkquest`: LinkQuest NavQuest 600 sensor data\n",
    "3. `/imu_adis`: Analog Devices ADIS16480 sensor data\n",
    "4. `/imu_adis_ros`: ADIS16480 orientation in standard ROS format\n",
    "5. `/imu_xsens_mti`: Xsens MTi sensor data\n",
    "<!-- REMOVED (FILE TOO LARGE) 6. `/imu_xsens_mti_ros`: Xsens MTi orientation in standard ROS format -->\n",
    "6. `/odometry`: Robot pose estimation\n",
    "7. `/sonar_micron`: Tritech Micron DST sensor beam data\n",
    "8. `/sonar_micron_ros`: Micron data in standard ROS Laserscan format\n",
    "9. `/sonar_seaking`: Tritech Super SeaKing DFP profiler sensor beam data\n",
    "<!-- REMOVED (FILE TOO LARGE) 11. `/sonar_seaking_ros`: Profiler data in standard ROS Laserscan format -->\n",
    "10. `/tf`: Sensor offset transformations\n",
    "\n",
    "## Sonar Specifications\n",
    "\n",
    "| Specification | Imaging sonar - Tritech Micron DST | Profiling sonar - Tritech Super SeaKing DFP |\n",
    "|---------------|-----------------------------------|-------------------------------------------|\n",
    "| Frequency | Chirped 650 to 750 kHz | 0.6 MHz \\| 1.1 MHz |\n",
    "| Max range | 75 m (20 m used) | 80 m \\| 40 m (10 m used) |\n",
    "| Horizontal beamwidth | 3° | 2° \\| 1° |\n",
    "| Vertical beamwidth | 35° | 2° \\| 1° |\n",
    "| Scan rate (360° sector) | 5 − 20 sec | 4 − 25 sec |\n",
    "\n",
    "## Available Data in Python\n",
    "A pre-processing is done on the CSV sensors data to create a Pickle folder containing the following interpolated variables.\n",
    "\n",
    "### 1. Horizontal Micron Sonar Data\n",
    "- `v_timestamp_sonar_micron_final`: Timestamps\n",
    "- `m_sonarReceivedIntensity_micron_final`: (397x45587) Received energy per range and time\n",
    "- `m_interp_micron_YPR`: (45587x3) Yaw, Pitch, Roll over time\n",
    "- `m_interp_pos_micron_final`: (45587x3) 3D Cartesian position over time\n",
    "- `v_angles_rad_micron_final`: (45587x1) Scanning angle over time (radians)\n",
    "- `v_range_micron`: (397x1) Range values (0 to 20 meters)\n",
    "- `v_offset_ypr_micron`: (3x1) Offset position from AUV reference\n",
    "\n",
    "### 2. Vertical Seaking Sonar Data\n",
    "- `v_timestamp_sonar_seaking_final`: Timestamps\n",
    "- `m_sonarReceivedIntensity_seaking_final`: (50x97477) Received energy per range and time\n",
    "- `m_interp_micron_YPR`: (97477x3) Yaw, Pitch, Roll over time\n",
    "- `m_interp_pos_micron_final`: (97477x3) 3D Cartesian position over time\n",
    "- `v_angles_rad_micron_final`: (97477x1) Scanning angle over time (radians)\n",
    "- `v_range_micron`: (50x1) Range values (0 to 20 meters)\n",
    "- `v_offset_ypr_seaking`: (3x1) Offset position from AUV reference\n",
    "\n",
    "## Current/Future work\n",
    "\n",
    "1. **Walls segmentation**  \n",
    "How to automatically extract the cave walls from sonar and sensor data? One idea is to annotate what we think is wall data and then apply AI/ML algorithms.\n",
    "\n",
    "2. **3D confidence map**  \n",
    "From the wall segmentation, we should be able to get a first 3D map with a confidence level assigned for each point according to the \"wall segmentation\" confidence algorithm.\n",
    "\n",
    "3. **3D confidence map extension by interpolation/extrapolation**  \n",
    "The final map could be interpolated to understand the entire cave. This interpolation could also have a confidence level depending on how far it is from the base 3D map.\n",
    "\n",
    "4. **Photogrammetry**  \n",
    "We have the video that should help add an extra data source.\n",
    "We could use the video combined with the altitude estimation to use the 3D photogrammetry and correlate the detected point of interest with the 3D map made from the sonar\n",
    "\n",
    "5. **SLAM**  \n",
    "Compared to the work from Maillos _et al._, 2015), the authors used simultaneous localization and mapping (SLAM) methods that I didn’t use.\n",
    "This is supposed to improve the 3D position of the AUV (Autonomous Underwater Vehicle) and improve the 3D map quality.\n",
    "\n",
    "6. **Real-time and Optimization**  \n",
    "When we have a SLAM method that we trust and everything is working. Then, we can think of real-time mapping and confidence map creation."
   ]
  },
  {
   "cell_type": "markdown",
   "metadata": {},
   "source": [
    "This file will become your README and also the index of your documentation."
   ]
  },
  {
   "cell_type": "markdown",
   "metadata": {},
   "source": []
  },
  {
   "cell_type": "code",
   "execution_count": null,
   "metadata": {},
   "outputs": [],
   "source": []
  },
  {
   "cell_type": "code",
   "execution_count": null,
   "metadata": {},
   "outputs": [],
   "source": []
  },
  {
   "cell_type": "markdown",
   "metadata": {},
   "source": [
    "## Project Folder architecture Template"
   ]
  },
  {
   "cell_type": "markdown",
   "metadata": {},
   "source": [
    "```\n",
    "project_root/\n",
    "├── nbs/                 # Jupyter notebooks\n",
    "│   ├── 00_core.ipynb\n",
    "│   ├── 01_data.ipynb\n",
    "│   ├── 02_model.ipynb\n",
    "│   └── 03_evaluation.ipynb\n",
    "├── nautilopy/           # Auto-generated Python modules\n",
    "├── docs/                # Auto-generated documentation\n",
    "├── tests/               # Additional tests (if needed)\n",
    "├── data/                # Data files (consider .gitignore for large files)\n",
    "├── models/              # Saved model files\n",
    "├── settings.ini         # nbdev configuration\n",
    "├── README.md\n",
    "└── LICENSE\n",
    "```"
   ]
  },
  {
   "cell_type": "code",
   "execution_count": null,
   "metadata": {},
   "outputs": [],
   "source": []
  },
  {
   "cell_type": "markdown",
   "metadata": {},
   "source": [
    "## Developer Guide"
   ]
  },
  {
   "cell_type": "markdown",
   "metadata": {},
   "source": [
    "Recommendation: read the End-To-Edn Walkthrough from the [Tutorial](https://nbdev.fast.ai/tutorials/tutorial.html)  \n",
    "If you are new to using `nbdev` here are some useful pointers to get you started.  "
   ]
  },
  {
   "cell_type": "markdown",
   "metadata": {},
   "source": [
    "### Install nautilopy in Development mode"
   ]
  },
  {
   "cell_type": "markdown",
   "metadata": {},
   "source": [
    "```sh\n",
    "# make sure nautilopy package is installed in development mode\n",
    "$ pip install -e .\n",
    "\n",
    "# make changes under nbs/ directory\n",
    "# ...\n",
    "\n",
    "# compile to have changes apply to nautilopy\n",
    "$ nbdev_prepare\n",
    "```"
   ]
  },
  {
   "cell_type": "markdown",
   "metadata": {},
   "source": [
    "## Usage"
   ]
  },
  {
   "cell_type": "markdown",
   "metadata": {},
   "source": [
    "### Installation"
   ]
  },
  {
   "cell_type": "markdown",
   "metadata": {},
   "source": [
    "Install the latest from the GitHub [repository][repo]:\n",
    "\n",
    "```sh\n",
    "$ pip install git+https://github.com/20KUTS/nautilopy.git\n",
    "```\n",
    "\n",
    "or from [conda][conda] \n",
    "\n",
    "```sh\n",
    "$ conda install -c 20KUTS nautilopy\n",
    "```\n",
    "\n",
    "or mamba [mamba][mamba]\n",
    "```sh\n",
    "$ mamba install -c 20KUTS nautilopy\n",
    "```\n",
    "\n",
    "or from [pypi][pypi]\n",
    "\n",
    "\n",
    "```sh\n",
    "$ pip install nautilopy\n",
    "```\n",
    "\n",
    "[repo]: https://github.com/20KUTS/nautilopy\n",
    "[docs]: https://20KUTS.github.io/nautilopy/\n",
    "[pypi]: https://pypi.org/project/nautilopy/\n",
    "[conda]: https://anaconda.org/20KUTS/nautilopy\n",
    "[mamba]: https://mamba.readthedocs.io/en/latest/installation/mamba-installation.html"
   ]
  },
  {
   "cell_type": "markdown",
   "metadata": {},
   "source": [
    "### Documentation"
   ]
  },
  {
   "cell_type": "markdown",
   "metadata": {},
   "source": [
    "Documentation can be found hosted on this GitHub [repository][repo]'s [pages][docs]. Additionally, you can find package manager-specific guidelines on [conda][conda] and [pypi][pypi] respectively.\n",
    "\n",
    "[repo]: https://github.com/20KUTS/nautilopy\n",
    "[docs]: https://20KUTS.github.io/nautilopy/\n",
    "[pypi]: https://pypi.org/project/nautilopy/\n",
    "[conda]: https://anaconda.org/20KUTS/nautilopy"
   ]
  },
  {
   "cell_type": "markdown",
   "metadata": {},
   "source": [
    "## How to use"
   ]
  },
  {
   "cell_type": "markdown",
   "metadata": {},
   "source": [
    "TO DO (redirect to notebooks later)"
   ]
  },
  {
   "cell_type": "code",
   "execution_count": 6,
   "metadata": {},
   "outputs": [
    {
     "data": {
      "text/plain": [
       "2"
      ]
     },
     "execution_count": 6,
     "metadata": {},
     "output_type": "execute_result"
    }
   ],
   "source": [
    "1+1"
   ]
  },
  {
   "cell_type": "code",
   "execution_count": null,
   "metadata": {},
   "outputs": [],
   "source": []
  },
  {
   "cell_type": "code",
   "execution_count": null,
   "metadata": {},
   "outputs": [],
   "source": []
  },
  {
   "cell_type": "code",
   "execution_count": null,
   "metadata": {},
   "outputs": [],
   "source": []
  }
 ],
 "metadata": {
  "kernelspec": {
   "display_name": "nbdev-env",
   "language": "python",
   "name": "nbdev-env"
  },
  "language_info": {
   "name": ""
  }
 },
 "nbformat": 4,
 "nbformat_minor": 4
}
